{
 "cells": [
  {
   "cell_type": "code",
   "execution_count": 29,
   "metadata": {},
   "outputs": [],
   "source": [
    "import pandas as pd\n"
   ]
  },
  {
   "cell_type": "code",
   "execution_count": 30,
   "metadata": {},
   "outputs": [],
   "source": [
    "#read in the unemployment data,,,2012 and 2018 data file have same file formats\n",
    "df_unemployment = pd.read_csv('2012UnemploymentData.csv')\n",
    "#add a column\n",
    "df_unemployment['AvgAge'] = df_unemployment['UnemploymentRate']\n",
    "df_unemployment['AgeIndex'] = df_unemployment['UnemploymentRate']\n",
    "\n",
    "#df_unemployment.describe()"
   ]
  },
  {
   "cell_type": "code",
   "execution_count": 31,
   "metadata": {},
   "outputs": [],
   "source": [
    "#read in enterprise data\n",
    "df_enterprise = pd.read_csv('EnterpriseData.csv')\n",
    "\n",
    "\n",
    "#add enterprise data to unemployment dataframe\n",
    "df_unemployment['Enterprises'] = df_enterprise['NoOfEnterprises']\n",
    "df_unemployment['totalPopulation'] = df_enterprise['totalPopulation']\n",
    "#df_unemployment.info()\n"
   ]
  },
  {
   "cell_type": "code",
   "execution_count": 32,
   "metadata": {},
   "outputs": [],
   "source": [
    "#df_unemployment.head(51)"
   ]
  },
  {
   "cell_type": "code",
   "execution_count": 33,
   "metadata": {},
   "outputs": [],
   "source": [
    "#read population data,,,2012 and 2018 data file have same file formats\n",
    "df_population = pd.read_csv('2012PopulationData.csv')\n",
    "#df_population.describe()"
   ]
  },
  {
   "cell_type": "code",
   "execution_count": 34,
   "metadata": {
    "scrolled": true
   },
   "outputs": [
    {
     "data": {
      "text/plain": [
       "Age                     float64\n",
       "Alabama                 float64\n",
       "Alaska                  float64\n",
       "Arizona                 float64\n",
       "Arkansas                float64\n",
       "California              float64\n",
       "Colorado                float64\n",
       "Connecticut             float64\n",
       "Delaware                float64\n",
       "District of Columbia    float64\n",
       "Florida                 float64\n",
       "Georgia                 float64\n",
       "Hawaii                  float64\n",
       "Idaho                   float64\n",
       "Illinois                float64\n",
       "Indiana                 float64\n",
       "Iowa                    float64\n",
       "Kansas                  float64\n",
       "Kentucky                float64\n",
       "Louisiana               float64\n",
       "Maine                   float64\n",
       "Maryland                float64\n",
       "Massachusetts           float64\n",
       "Michigan                float64\n",
       "Minnesota               float64\n",
       "Mississippi             float64\n",
       "Missouri                float64\n",
       "Montana                 float64\n",
       "Nebraska                float64\n",
       "Nevada                  float64\n",
       "New Hampshire           float64\n",
       "New Jersey              float64\n",
       "New Mexico              float64\n",
       "New York                float64\n",
       "North Carolina          float64\n",
       "North Dakota            float64\n",
       "Ohio                    float64\n",
       "Oklahoma                float64\n",
       "Oregon                  float64\n",
       "Pennsylvania            float64\n",
       "Rhode Island            float64\n",
       "South Carolina          float64\n",
       "South Dakota            float64\n",
       "Tennessee               float64\n",
       "Texas                   float64\n",
       "Utah                    float64\n",
       "Vermont                 float64\n",
       "Virginia                float64\n",
       "Washington              float64\n",
       "West Virginia           float64\n",
       "Wisconsin               float64\n",
       "Wyoming                 float64\n",
       "dtype: object"
      ]
     },
     "execution_count": 34,
     "metadata": {},
     "output_type": "execute_result"
    }
   ],
   "source": [
    "df_popweight = df_population.copy()\n",
    "#change data types of all columns\n",
    "df_popweight[1:].astype('float64').dtypes\n",
    "#df_popweight.info()"
   ]
  },
  {
   "cell_type": "code",
   "execution_count": 35,
   "metadata": {},
   "outputs": [],
   "source": [
    "#print(df_popweight[:3])"
   ]
  },
  {
   "cell_type": "code",
   "execution_count": 36,
   "metadata": {},
   "outputs": [],
   "source": [
    "#get weighted avg age for each state avg = Sum(age level population*age level population)/total population\n",
    "\n",
    "for col in range(1,len(df_popweight.columns)):\n",
    "    AvgAge = 0.0\n",
    "    totpop = float(df_popweight.iloc[0,col])\n",
    "    for row in range(1,df_popweight.shape[0]):\n",
    "        AvgAge += df_popweight.iloc[row,col] * row\n",
    "    #print(AvgAge, \"     \", totpop, \"    \", col, \"     \", df_unemployment.iloc[col-1,2])\n",
    "    df_unemployment.iloc[col-1,2] = AvgAge / totpop\n",
    "     \n",
    "#df_unemployment.head(2)\n"
   ]
  },
  {
   "cell_type": "code",
   "execution_count": 37,
   "metadata": {},
   "outputs": [],
   "source": [
    "#get ageIndex for each state ageIndex = 100 * Sum(population age levels 0-14)/Sum(population age levels 65+)\n",
    " \n",
    "for col in range(1,len(df_popweight.columns)):\n",
    "    P65 = 0.0\n",
    "    P14 = 0.0\n",
    "    ageIndex = 0.0\n",
    "    #calc Population of ages 0-14\n",
    "    for row in range(1,16):\n",
    "        P14 += df_popweight.iloc[row,col] \n",
    "    #calc Population of ages 65+\n",
    "    for row in range(66,df_popweight.shape[0]):\n",
    "        P65 += df_popweight.iloc[row,col] \n",
    "    \n",
    "    #print(P65, \"     \", P14, \"    \", col, \"     \", df_unemployment.iloc[col-1,3])\n",
    "    df_unemployment.iloc[col-1,3] = P65 * 100 / P14\n",
    "     \n",
    "#df_unemployment.head(2)"
   ]
  },
  {
   "cell_type": "code",
   "execution_count": 38,
   "metadata": {},
   "outputs": [],
   "source": [
    "#import scikit to do regression\n",
    "import pandas as pd  \n",
    "import numpy as np  \n",
    "import matplotlib.pyplot as plt  \n",
    "import seaborn as seabornInstance \n",
    "from sklearn.model_selection import train_test_split \n",
    "from sklearn.linear_model import LinearRegression\n",
    "from sklearn import metrics\n",
    "%matplotlib inline"
   ]
  },
  {
   "cell_type": "code",
   "execution_count": 85,
   "metadata": {},
   "outputs": [],
   "source": [
    "#prepare for ML: lable, independent variables\n",
    "#if using single variable  then reshape the array...comment out reshape if using multivariable input\n",
    "#run the model with one AvgAge or AgeIndex at a time \n",
    "#X = df_unemployment['AvgAge'].values.reshape(-1,1)\n",
    "#X = df_unemployment['AgeIndex'].values.reshape(-1,1)\n",
    "#y = df_unemployment['UnemploymentRate'].values.reshape(-1,1)\n",
    "#run the model with one AvgAge or AgeIndex at a time \n",
    "#X = df_unemployment[['AvgAge','Enterprises','totalPopulation']].values\n",
    "#X = df_unemployment[['AgeIndex','Enterprises','totalPopulation']].values"
   ]
  },
  {
   "cell_type": "code",
   "execution_count": 46,
   "metadata": {},
   "outputs": [],
   "source": [
    "#run the whole analysis with log of data\n",
    "import numpy as np\n",
    "#log the data\n",
    "#if using single variable  then reshape the array...comment out reshape if using multivariable input\n",
    "df_unemployment['log_AvgAge'] = np.log(df_unemployment.AvgAge)\n",
    "df_unemployment['log_AgeIndex'] = np.log(df_unemployment.AgeIndex)\n",
    "df_unemployment['log_Enterprises'] = np.log(df_unemployment.Enterprises)\n",
    "df_unemployment['log_totalPopulation'] = np.log(df_unemployment.totalPopulation)\n",
    "df_unemployment['log_UnemploymentRate'] = np.log(df_unemployment.UnemploymentRate)\n",
    "\n",
    "#prepare for ML: lable, independent variables\n",
    "#X = df_unemployment['log_AvgAge'].values.reshape(-1,1)\n",
    "#X = df_unemployment['log_AgeIndex'].values.reshape(-1,1)\n",
    "y = df_unemployment['log_UnemploymentRate'].values.reshape(-1,1)\n",
    "#run the model with one AvgAge or AgeIndex at a time \n",
    "#X = df_unemployment[['log_AvgAge','log_Enterprises','log_totalPopulation']].values\n",
    "X = df_unemployment[['log_AgeIndex','log_Enterprises','log_totalPopulation']].values"
   ]
  },
  {
   "cell_type": "markdown",
   "metadata": {},
   "source": [
    "Using two methods (linerregression model from sklearn lib and Statsmodel lib OLS) to calc. Regression Coeff. and Constant...just to double check. The results match."
   ]
  },
  {
   "cell_type": "code",
   "execution_count": 87,
   "metadata": {},
   "outputs": [
    {
     "name": "stdout",
     "output_type": "stream",
     "text": [
      "Reg. Intercept/Constant:   [4.47522321]\n",
      "Reg Coeff:   [[-0.00723264]]\n",
      "R2:   0.0228837739903609\n"
     ]
    }
   ],
   "source": [
    "#train the model\n",
    "regressor = LinearRegression() \n",
    "regressor.fit(X, y) #training the algorithm\n",
    "#print regression results\n",
    "#To retrieve the intercept:\n",
    "print('Reg. Intercept/Constant:  ', regressor.intercept_)\n",
    "\n",
    "#For retrieving the slope:\n",
    "print('Reg Coeff:  ', regressor.coef_)\n",
    "#print r2\n",
    "print('R2:  ' , regressor.score(X, y))\n",
    "\n",
    "\n",
    "#print('Mean Absolute Error:', metrics.mean_absolute_error(y_test, y_pred))  \n",
    "#print('Mean Squared Error:', metrics.mean_squared_error(y_test, y_pred))  \n",
    "#print('Root Mean Squared Error:', np.sqrt(metrics.mean_squared_error(y_test, y_pred)))\n",
    "#root mean squared error is 0.71 which is 10% more than avg unemployment rate for all states (3.82), \n",
    "#So, the algorithm can not predict very well."
   ]
  },
  {
   "cell_type": "code",
   "execution_count": 47,
   "metadata": {},
   "outputs": [
    {
     "data": {
      "text/html": [
       "<table class=\"simpletable\">\n",
       "<caption>OLS Regression Results</caption>\n",
       "<tr>\n",
       "  <th>Dep. Variable:</th>            <td>y</td>        <th>  R-squared:         </th> <td>   0.326</td>\n",
       "</tr>\n",
       "<tr>\n",
       "  <th>Model:</th>                   <td>OLS</td>       <th>  Adj. R-squared:    </th> <td>   0.283</td>\n",
       "</tr>\n",
       "<tr>\n",
       "  <th>Method:</th>             <td>Least Squares</td>  <th>  F-statistic:       </th> <td>   7.578</td>\n",
       "</tr>\n",
       "<tr>\n",
       "  <th>Date:</th>             <td>Wed, 04 Dec 2019</td> <th>  Prob (F-statistic):</th> <td>0.000311</td>\n",
       "</tr>\n",
       "<tr>\n",
       "  <th>Time:</th>                 <td>11:19:16</td>     <th>  Log-Likelihood:    </th> <td>  7.5027</td>\n",
       "</tr>\n",
       "<tr>\n",
       "  <th>No. Observations:</th>      <td>    51</td>      <th>  AIC:               </th> <td>  -7.005</td>\n",
       "</tr>\n",
       "<tr>\n",
       "  <th>Df Residuals:</th>          <td>    47</td>      <th>  BIC:               </th> <td>  0.7219</td>\n",
       "</tr>\n",
       "<tr>\n",
       "  <th>Df Model:</th>              <td>     3</td>      <th>                     </th>     <td> </td>   \n",
       "</tr>\n",
       "<tr>\n",
       "  <th>Covariance Type:</th>      <td>nonrobust</td>    <th>                     </th>     <td> </td>   \n",
       "</tr>\n",
       "</table>\n",
       "<table class=\"simpletable\">\n",
       "<tr>\n",
       "    <td></td>       <th>coef</th>     <th>std err</th>      <th>t</th>      <th>P>|t|</th>  <th>[0.025</th>    <th>0.975]</th>  \n",
       "</tr>\n",
       "<tr>\n",
       "  <th>const</th> <td>   -2.3812</td> <td>    1.149</td> <td>   -2.072</td> <td> 0.044</td> <td>   -4.694</td> <td>   -0.069</td>\n",
       "</tr>\n",
       "<tr>\n",
       "  <th>x1</th>    <td>    0.2124</td> <td>    0.156</td> <td>    1.363</td> <td> 0.179</td> <td>   -0.101</td> <td>    0.526</td>\n",
       "</tr>\n",
       "<tr>\n",
       "  <th>x2</th>    <td>   -0.6296</td> <td>    0.260</td> <td>   -2.417</td> <td> 0.020</td> <td>   -1.154</td> <td>   -0.106</td>\n",
       "</tr>\n",
       "<tr>\n",
       "  <th>x3</th>    <td>    0.6978</td> <td>    0.240</td> <td>    2.903</td> <td> 0.006</td> <td>    0.214</td> <td>    1.181</td>\n",
       "</tr>\n",
       "</table>\n",
       "<table class=\"simpletable\">\n",
       "<tr>\n",
       "  <th>Omnibus:</th>       <td> 0.731</td> <th>  Durbin-Watson:     </th> <td>   2.284</td>\n",
       "</tr>\n",
       "<tr>\n",
       "  <th>Prob(Omnibus):</th> <td> 0.694</td> <th>  Jarque-Bera (JB):  </th> <td>   0.183</td>\n",
       "</tr>\n",
       "<tr>\n",
       "  <th>Skew:</th>          <td>-0.037</td> <th>  Prob(JB):          </th> <td>   0.913</td>\n",
       "</tr>\n",
       "<tr>\n",
       "  <th>Kurtosis:</th>      <td> 3.284</td> <th>  Cond. No.          </th> <td>    757.</td>\n",
       "</tr>\n",
       "</table><br/><br/>Warnings:<br/>[1] Standard Errors assume that the covariance matrix of the errors is correctly specified."
      ],
      "text/plain": [
       "<class 'statsmodels.iolib.summary.Summary'>\n",
       "\"\"\"\n",
       "                            OLS Regression Results                            \n",
       "==============================================================================\n",
       "Dep. Variable:                      y   R-squared:                       0.326\n",
       "Model:                            OLS   Adj. R-squared:                  0.283\n",
       "Method:                 Least Squares   F-statistic:                     7.578\n",
       "Date:                Wed, 04 Dec 2019   Prob (F-statistic):           0.000311\n",
       "Time:                        11:19:16   Log-Likelihood:                 7.5027\n",
       "No. Observations:                  51   AIC:                            -7.005\n",
       "Df Residuals:                      47   BIC:                            0.7219\n",
       "Df Model:                           3                                         \n",
       "Covariance Type:            nonrobust                                         \n",
       "==============================================================================\n",
       "                 coef    std err          t      P>|t|      [0.025      0.975]\n",
       "------------------------------------------------------------------------------\n",
       "const         -2.3812      1.149     -2.072      0.044      -4.694      -0.069\n",
       "x1             0.2124      0.156      1.363      0.179      -0.101       0.526\n",
       "x2            -0.6296      0.260     -2.417      0.020      -1.154      -0.106\n",
       "x3             0.6978      0.240      2.903      0.006       0.214       1.181\n",
       "==============================================================================\n",
       "Omnibus:                        0.731   Durbin-Watson:                   2.284\n",
       "Prob(Omnibus):                  0.694   Jarque-Bera (JB):                0.183\n",
       "Skew:                          -0.037   Prob(JB):                        0.913\n",
       "Kurtosis:                       3.284   Cond. No.                         757.\n",
       "==============================================================================\n",
       "\n",
       "Warnings:\n",
       "[1] Standard Errors assume that the covariance matrix of the errors is correctly specified.\n",
       "\"\"\""
      ]
     },
     "execution_count": 47,
     "metadata": {},
     "output_type": "execute_result"
    }
   ],
   "source": [
    "#calc F-statistic and t-statistic...use the statsmodel to get all the model output including stats\n",
    "\n",
    "import statsmodels.api as sm\n",
    "X = sm.add_constant(X)\n",
    "model = sm.OLS(y,X).fit()\n",
    "model.summary()"
   ]
  },
  {
   "cell_type": "code",
   "execution_count": 89,
   "metadata": {},
   "outputs": [
    {
     "data": {
      "image/png": "[encoded data removed]",
      "text/plain": [
       "<Figure size 432x288 with 1 Axes>"
      ]
     },
     "metadata": {
      "needs_background": "light"
     },
     "output_type": "display_data"
    }
   ],
   "source": [
    "#plot Age Index vs. Unemployment ,,,change the year in title depending on data file\n",
    "df_unemployment.plot(x='log_AgeIndex', y='log_UnemploymentRate', style='o')\n",
    "#plt.yscale('log')\n",
    "#plt.xscale('log')\n",
    "plt.title('2018: Age Index vs Unemployment')  \n",
    "plt.xlabel('Age Index (#of 65+/100 (0-14 age))')  \n",
    "plt.ylabel('Unemployment Rate (%)')  \n",
    "plt.savefig('2018AgeIndex')  #.show()"
   ]
  },
  {
   "cell_type": "code",
   "execution_count": 90,
   "metadata": {},
   "outputs": [
    {
     "data": {
      "image/png": "[encoded data removed]",
      "text/plain": [
       "<Figure size 432x288 with 1 Axes>"
      ]
     },
     "metadata": {
      "needs_background": "light"
     },
     "output_type": "display_data"
    }
   ],
   "source": [
    "#plot Age Index vs. Unemployment ,,,change the year in title depending on data file\n",
    "df_unemployment.plot(x='AvgAge', y='UnemploymentRate', style='o')  \n",
    "plt.title('2018: Average Population Age vs Unemployment')  \n",
    "plt.xlabel('Avg. Age (years))')  \n",
    "plt.ylabel('Unemployment Rate (%)')  \n",
    "plt.savefig('2018AvgAge')  #.show()"
   ]
  },
  {
   "cell_type": "code",
   "execution_count": null,
   "metadata": {},
   "outputs": [],
   "source": []
  }
 ],
 "metadata": {
  "kernelspec": {
   "display_name": "Python 3",
   "language": "python",
   "name": "python3"
  },
  "language_info": {
   "codemirror_mode": {
    "name": "ipython",
    "version": 3
   },
   "file_extension": ".py",
   "mimetype": "text/x-python",
   "name": "python",
   "nbconvert_exporter": "python",
   "pygments_lexer": "ipython3",
   "version": "3.6.9"
  }
 },
 "nbformat": 4,
 "nbformat_minor": 2
}
