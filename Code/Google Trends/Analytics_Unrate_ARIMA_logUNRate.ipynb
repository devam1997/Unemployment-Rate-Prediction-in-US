{
 "cells": [
  {
   "cell_type": "code",
   "execution_count": 55,
   "metadata": {},
   "outputs": [],
   "source": [
    "from pandas import read_csv\n",
    "from pandas import datetime\n",
    "from matplotlib import pyplot\n",
    "from statsmodels.tsa.arima_model import ARIMA\n",
    "from sklearn.metrics import mean_squared_error\n",
    "from math import sqrt\n",
    "from pandas import DataFrame"
   ]
  },
  {
   "cell_type": "code",
   "execution_count": 56,
   "metadata": {},
   "outputs": [],
   "source": [
    "df = read_csv('UNRATE.csv', header=0, index_col=0)"
   ]
  },
  {
   "cell_type": "code",
   "execution_count": 57,
   "metadata": {},
   "outputs": [],
   "source": [
    "X = df.values"
   ]
  },
  {
   "cell_type": "code",
   "execution_count": 58,
   "metadata": {},
   "outputs": [],
   "source": [
    "size = int(len(X) * 0.7)"
   ]
  },
  {
   "cell_type": "code",
   "execution_count": 59,
   "metadata": {},
   "outputs": [],
   "source": [
    "train, test = X[0:size], X[size:len(X)]"
   ]
  },
  {
   "cell_type": "code",
   "execution_count": 60,
   "metadata": {},
   "outputs": [],
   "source": [
    "history = [x for x in train]"
   ]
  },
  {
   "cell_type": "code",
   "execution_count": 61,
   "metadata": {},
   "outputs": [],
   "source": [
    "predictions = list()"
   ]
  },
  {
   "cell_type": "code",
   "execution_count": 62,
   "metadata": {},
   "outputs": [
    {
     "name": "stdout",
     "output_type": "stream",
     "text": [
      "predicted=0.660042, expected=0.672098\n",
      "predicted=0.671543, expected=0.633468\n",
      "predicted=0.633317, expected=0.643453\n",
      "predicted=0.637299, expected=0.653213\n",
      "predicted=0.651533, expected=0.653213\n",
      "predicted=0.654412, expected=0.653213\n",
      "predicted=0.651904, expected=0.662758\n",
      "predicted=0.664982, expected=0.653213\n",
      "predicted=0.655399, expected=0.643453\n",
      "predicted=0.642519, expected=0.643453\n",
      "predicted=0.641298, expected=0.633468\n",
      "predicted=0.631923, expected=0.643453\n",
      "predicted=0.640800, expected=0.623249\n",
      "predicted=0.622032, expected=0.633468\n",
      "predicted=0.630937, expected=0.623249\n",
      "predicted=0.622076, expected=0.633468\n",
      "predicted=0.632840, expected=0.633468\n",
      "predicted=0.633259, expected=0.623249\n",
      "predicted=0.624245, expected=0.623249\n",
      "predicted=0.621347, expected=0.612784\n",
      "predicted=0.611965, expected=0.612784\n",
      "predicted=0.610212, expected=0.602060\n",
      "predicted=0.599435, expected=0.602060\n",
      "predicted=0.599406, expected=0.612784\n",
      "predicted=0.611199, expected=0.602060\n",
      "predicted=0.602827, expected=0.579784\n",
      "predicted=0.577166, expected=0.602060\n",
      "predicted=0.598609, expected=0.602060\n",
      "predicted=0.603484, expected=0.602060\n",
      "predicted=0.602403, expected=0.612784\n",
      "predicted=0.613164, expected=0.591065\n",
      "predicted=0.594015, expected=0.591065\n",
      "predicted=0.588583, expected=0.591065\n",
      "predicted=0.589121, expected=0.591065\n",
      "predicted=0.590542, expected=0.623249\n",
      "predicted=0.622975, expected=0.623249\n",
      "predicted=0.629208, expected=0.633468\n",
      "predicted=0.638193, expected=0.643453\n",
      "predicted=0.648067, expected=0.633468\n",
      "predicted=0.639110, expected=0.653213\n",
      "predicted=0.654394, expected=0.662758\n",
      "predicted=0.667223, expected=0.690196\n",
      "predicted=0.696240, expected=0.698970\n",
      "predicted=0.706194, expected=0.724276\n",
      "predicted=0.733290, expected=0.740363\n",
      "predicted=0.749894, expected=0.755875\n",
      "predicted=0.766222, expected=0.755875\n",
      "predicted=0.763517, expected=0.755875\n",
      "predicted=0.761398, expected=0.755875\n",
      "predicted=0.758528, expected=0.770852\n",
      "predicted=0.773218, expected=0.763428\n",
      "predicted=0.766061, expected=0.763428\n",
      "predicted=0.764170, expected=0.763428\n",
      "predicted=0.763685, expected=0.755875\n",
      "predicted=0.756554, expected=0.755875\n",
      "predicted=0.754008, expected=0.755875\n",
      "predicted=0.755110, expected=0.770852\n",
      "predicted=0.771313, expected=0.778151\n",
      "predicted=0.780851, expected=0.763428\n",
      "predicted=0.766161, expected=0.770852\n",
      "predicted=0.770629, expected=0.770852\n",
      "predicted=0.772389, expected=0.778151\n",
      "predicted=0.779362, expected=0.785330\n",
      "predicted=0.786404, expected=0.799341\n",
      "predicted=0.803202, expected=0.792392\n",
      "predicted=0.796270, expected=0.785330\n",
      "predicted=0.786824, expected=0.785330\n",
      "predicted=0.784934, expected=0.778151\n",
      "predicted=0.777910, expected=0.763428\n",
      "predicted=0.760484, expected=0.755875\n",
      "predicted=0.751424, expected=0.755875\n",
      "predicted=0.752325, expected=0.748188\n",
      "predicted=0.745420, expected=0.763428\n",
      "predicted=0.761190, expected=0.748188\n",
      "predicted=0.748815, expected=0.748188\n",
      "predicted=0.746990, expected=0.748188\n",
      "predicted=0.746750, expected=0.740363\n",
      "predicted=0.740534, expected=0.732394\n",
      "predicted=0.729384, expected=0.732394\n",
      "predicted=0.730092, expected=0.740363\n",
      "predicted=0.739409, expected=0.732394\n",
      "predicted=0.732443, expected=0.732394\n",
      "predicted=0.731418, expected=0.724276\n",
      "predicted=0.723560, expected=0.732394\n",
      "predicted=0.731639, expected=0.716003\n",
      "predicted=0.715162, expected=0.716003\n",
      "predicted=0.713614, expected=0.707570\n",
      "predicted=0.705075, expected=0.698970\n",
      "predicted=0.696757, expected=0.698970\n",
      "predicted=0.695001, expected=0.690196\n",
      "predicted=0.688263, expected=0.698970\n",
      "predicted=0.696585, expected=0.698970\n",
      "predicted=0.698881, expected=0.698970\n",
      "predicted=0.699662, expected=0.690196\n",
      "predicted=0.689735, expected=0.672098\n",
      "predicted=0.670502, expected=0.681241\n",
      "predicted=0.677335, expected=0.672098\n",
      "predicted=0.670628, expected=0.672098\n",
      "predicted=0.669709, expected=0.662758\n",
      "predicted=0.660263, expected=0.662758\n",
      "predicted=0.661355, expected=0.672098\n",
      "predicted=0.670659, expected=0.672098\n",
      "predicted=0.673354, expected=0.653213\n",
      "predicted=0.652781, expected=0.643453\n",
      "predicted=0.640232, expected=0.653213\n",
      "predicted=0.650478, expected=0.643453\n",
      "predicted=0.642381, expected=0.662758\n",
      "predicted=0.660826, expected=0.653213\n",
      "predicted=0.655014, expected=0.643453\n",
      "predicted=0.644044, expected=0.653213\n",
      "predicted=0.651124, expected=0.643453\n",
      "predicted=0.644870, expected=0.662758\n",
      "predicted=0.661621, expected=0.672098\n",
      "predicted=0.674682, expected=0.662758\n",
      "predicted=0.666960, expected=0.672098\n",
      "predicted=0.672389, expected=0.672098\n",
      "predicted=0.675185, expected=0.672098\n",
      "predicted=0.673732, expected=0.698970\n",
      "predicted=0.699974, expected=0.698970\n",
      "predicted=0.704968, expected=0.690196\n",
      "predicted=0.693427, expected=0.707570\n",
      "predicted=0.708526, expected=0.698970\n",
      "predicted=0.703346, expected=0.732394\n",
      "predicted=0.734071, expected=0.748188\n",
      "predicted=0.754238, expected=0.763428\n",
      "predicted=0.772772, expected=0.785330\n",
      "predicted=0.792516, expected=0.785330\n",
      "predicted=0.795853, expected=0.812913\n",
      "predicted=0.819709, expected=0.832509\n",
      "predicted=0.841614, expected=0.863323\n",
      "predicted=0.874600, expected=0.892095\n",
      "predicted=0.903834, expected=0.919078\n",
      "predicted=0.934386, expected=0.939519\n",
      "predicted=0.953785, expected=0.954243\n",
      "predicted=0.967782, expected=0.973128\n",
      "predicted=0.984627, expected=0.977724\n",
      "predicted=0.987920, expected=0.977724\n",
      "predicted=0.984436, expected=0.982271\n",
      "predicted=0.986064, expected=0.991226\n",
      "predicted=0.995092, expected=1.000000\n",
      "predicted=1.003572, expected=0.995635\n",
      "predicted=0.998894, expected=0.995635\n",
      "predicted=0.997302, expected=0.991226\n",
      "predicted=0.992192, expected=0.991226\n",
      "predicted=0.991348, expected=0.995635\n",
      "predicted=0.995137, expected=0.995635\n",
      "predicted=0.996540, expected=0.982271\n",
      "predicted=0.982044, expected=0.973128\n",
      "predicted=0.970675, expected=0.973128\n",
      "predicted=0.970366, expected=0.977724\n",
      "predicted=0.976253, expected=0.977724\n",
      "predicted=0.976967, expected=0.973128\n",
      "predicted=0.972851, expected=0.991226\n",
      "predicted=0.991853, expected=0.968483\n",
      "predicted=0.971017, expected=0.959041\n",
      "predicted=0.956682, expected=0.954243\n",
      "predicted=0.950065, expected=0.954243\n",
      "predicted=0.952869, expected=0.959041\n",
      "predicted=0.956006, expected=0.954243\n",
      "predicted=0.953936, expected=0.959041\n",
      "predicted=0.958797, expected=0.954243\n",
      "predicted=0.954859, expected=0.954243\n",
      "predicted=0.954470, expected=0.954243\n",
      "predicted=0.953681, expected=0.944483\n",
      "predicted=0.944499, expected=0.934498\n",
      "predicted=0.931914, expected=0.929419\n",
      "predicted=0.926238, expected=0.919078\n",
      "predicted=0.915947, expected=0.919078\n",
      "predicted=0.915086, expected=0.913814\n",
      "predicted=0.911096, expected=0.913814\n",
      "predicted=0.911930, expected=0.913814\n",
      "predicted=0.912300, expected=0.913814\n",
      "predicted=0.913765, expected=0.913814\n",
      "predicted=0.913528, expected=0.908485\n",
      "predicted=0.908476, expected=0.892095\n",
      "predicted=0.890493, expected=0.892095\n",
      "predicted=0.888503, expected=0.886491\n",
      "predicted=0.883961, expected=0.897627\n",
      "predicted=0.895848, expected=0.903090\n",
      "predicted=0.903306, expected=0.886491\n",
      "predicted=0.888081, expected=0.875061\n",
      "predicted=0.872334, expected=0.880814\n",
      "predicted=0.878508, expected=0.875061\n",
      "predicted=0.874179, expected=0.875061\n",
      "predicted=0.872538, expected=0.863323\n",
      "predicted=0.861327, expected=0.857332\n",
      "predicted=0.855301, expected=0.857332\n",
      "predicted=0.854269, expected=0.857332\n",
      "predicted=0.856073, expected=0.838849\n",
      "predicted=0.836512, expected=0.826075\n",
      "predicted=0.821493, expected=0.819544\n",
      "predicted=0.814569, expected=0.826075\n",
      "predicted=0.822599, expected=0.826075\n",
      "predicted=0.823898, expected=0.792392\n",
      "predicted=0.789885, expected=0.799341\n",
      "predicted=0.793292, expected=0.785330\n",
      "predicted=0.782421, expected=0.792392\n",
      "predicted=0.789091, expected=0.785330\n",
      "predicted=0.781396, expected=0.770852\n",
      "predicted=0.769813, expected=0.755875\n",
      "predicted=0.750540, expected=0.763428\n",
      "predicted=0.759626, expected=0.748188\n",
      "predicted=0.745372, expected=0.755875\n",
      "predicted=0.751960, expected=0.740363\n",
      "predicted=0.738099, expected=0.732394\n",
      "predicted=0.730088, expected=0.732394\n",
      "predicted=0.727827, expected=0.748188\n",
      "predicted=0.747918, expected=0.724276\n",
      "predicted=0.724068, expected=0.716003\n",
      "predicted=0.712448, expected=0.707570\n",
      "predicted=0.703746, expected=0.698970\n",
      "predicted=0.696178, expected=0.698970\n",
      "predicted=0.693210, expected=0.707570\n",
      "predicted=0.705542, expected=0.698970\n",
      "predicted=0.698817, expected=0.690196\n",
      "predicted=0.688467, expected=0.690196\n"
     ]
    },
    {
     "name": "stdout",
     "output_type": "stream",
     "text": [
      "predicted=0.688144, expected=0.698970\n",
      "predicted=0.698740, expected=0.698970\n",
      "predicted=0.699198, expected=0.681241\n",
      "predicted=0.680686, expected=0.690196\n",
      "predicted=0.688044, expected=0.681241\n",
      "predicted=0.681287, expected=0.690196\n",
      "predicted=0.688994, expected=0.698970\n",
      "predicted=0.698660, expected=0.690196\n",
      "predicted=0.693096, expected=0.672098\n",
      "predicted=0.670492, expected=0.672098\n",
      "predicted=0.669327, expected=0.672098\n",
      "predicted=0.670258, expected=0.672098\n",
      "predicted=0.670001, expected=0.643453\n",
      "predicted=0.640210, expected=0.643453\n",
      "predicted=0.638283, expected=0.643453\n",
      "predicted=0.639886, expected=0.633468\n",
      "predicted=0.631073, expected=0.633468\n",
      "predicted=0.628540, expected=0.643453\n",
      "predicted=0.642710, expected=0.623249\n",
      "predicted=0.623551, expected=0.612784\n",
      "predicted=0.608919, expected=0.623249\n",
      "predicted=0.619973, expected=0.612784\n",
      "predicted=0.612550, expected=0.612784\n",
      "predicted=0.609408, expected=0.612784\n",
      "predicted=0.611090, expected=0.602060\n",
      "predicted=0.602052, expected=0.591065\n",
      "predicted=0.587569, expected=0.579784\n",
      "predicted=0.575920, expected=0.602060\n",
      "predicted=0.598862, expected=0.591065\n",
      "predicted=0.591227, expected=0.579784\n",
      "predicted=0.578313, expected=0.568202\n",
      "predicted=0.564675, expected=0.579784\n",
      "predicted=0.578409, expected=0.568202\n",
      "predicted=0.566269, expected=0.591065\n",
      "predicted=0.589422, expected=0.602060\n",
      "predicted=0.604830, expected=0.579784\n",
      "predicted=0.584307, expected=0.579784\n",
      "predicted=0.577770, expected=0.556303\n",
      "predicted=0.555698, expected=0.556303\n",
      "predicted=0.551748, expected=0.568202\n",
      "predicted=0.563236, expected=0.568202\n",
      "predicted=0.568756, expected=0.568202\n",
      "predicted=0.567223, expected=0.544068\n"
     ]
    }
   ],
   "source": [
    "for t in range(len(test)):\n",
    "    model = ARIMA(history, order=(5,1,0))\n",
    "    model_fit = model.fit(disp=0)\n",
    "    output = model_fit.forecast()\n",
    "    yhat = output[0]\n",
    "    predictions.append(yhat)\n",
    "    obs = test[t]\n",
    "    history.append(obs)\n",
    "    print('predicted=%f, expected=%f' % (yhat, obs))"
   ]
  },
  {
   "cell_type": "code",
   "execution_count": 63,
   "metadata": {},
   "outputs": [],
   "source": [
    "mse = mean_squared_error(test, predictions)"
   ]
  },
  {
   "cell_type": "code",
   "execution_count": 64,
   "metadata": {},
   "outputs": [
    {
     "name": "stdout",
     "output_type": "stream",
     "text": [
      "Test MSE: 0.000127\n"
     ]
    }
   ],
   "source": [
    "print('Test MSE: %.6f' % mse)"
   ]
  },
  {
   "cell_type": "code",
   "execution_count": 65,
   "metadata": {},
   "outputs": [
    {
     "data": {
      "text/plain": [
       "[<matplotlib.lines.Line2D at 0x16d3aab9940>]"
      ]
     },
     "execution_count": 65,
     "metadata": {},
     "output_type": "execute_result"
    },
    {
     "data": {
      "image/png": "[encoded data removed]",
      "text/plain": [
       "<Figure size 432x288 with 1 Axes>"
      ]
     },
     "metadata": {
      "needs_background": "light"
     },
     "output_type": "display_data"
    }
   ],
   "source": [
    "pyplot.plot(test)"
   ]
  },
  {
   "cell_type": "code",
   "execution_count": 66,
   "metadata": {},
   "outputs": [
    {
     "data": {
      "text/plain": [
       "[<matplotlib.lines.Line2D at 0x16d3ab17550>]"
      ]
     },
     "execution_count": 66,
     "metadata": {},
     "output_type": "execute_result"
    },
    {
     "data": {
      "image/png": "[encoded data removed]",
      "text/plain": [
       "<Figure size 432x288 with 1 Axes>"
      ]
     },
     "metadata": {
      "needs_background": "light"
     },
     "output_type": "display_data"
    }
   ],
   "source": [
    "pyplot.plot(predictions, color='red')"
   ]
  },
  {
   "cell_type": "code",
   "execution_count": 67,
   "metadata": {},
   "outputs": [],
   "source": [
    "rmse = sqrt(mse)"
   ]
  },
  {
   "cell_type": "code",
   "execution_count": 68,
   "metadata": {},
   "outputs": [
    {
     "name": "stdout",
     "output_type": "stream",
     "text": [
      "Root mean squared error: 0.011261\n"
     ]
    }
   ],
   "source": [
    "print('Root mean squared error: %.6f' % rmse)"
   ]
  },
  {
   "cell_type": "code",
   "execution_count": 69,
   "metadata": {},
   "outputs": [
    {
     "name": "stdout",
     "output_type": "stream",
     "text": [
      "                             ARIMA Model Results                              \n",
      "==============================================================================\n",
      "Dep. Variable:                    D.y   No. Observations:                  859\n",
      "Model:                 ARIMA(5, 1, 0)   Log Likelihood                2355.863\n",
      "Method:                       css-mle   S.D. of innovations              0.016\n",
      "Date:                Mon, 02 Dec 2019   AIC                          -4697.725\n",
      "Time:                        16:59:42   BIC                          -4664.435\n",
      "Sample:                             1   HQIC                         -4684.980\n",
      "                                                                              \n",
      "==============================================================================\n",
      "                 coef    std err          z      P>|z|      [0.025      0.975]\n",
      "------------------------------------------------------------------------------\n",
      "const          0.0001      0.001      0.097      0.923      -0.002       0.002\n",
      "ar.L1.D.y      0.0426      0.034      1.247      0.213      -0.024       0.109\n",
      "ar.L2.D.y      0.1779      0.034      5.209      0.000       0.111       0.245\n",
      "ar.L3.D.y      0.1298      0.034      3.775      0.000       0.062       0.197\n",
      "ar.L4.D.y      0.0689      0.034      2.007      0.045       0.002       0.136\n",
      "ar.L5.D.y      0.1097      0.034      3.186      0.001       0.042       0.177\n",
      "                                    Roots                                    \n",
      "=============================================================================\n",
      "                  Real          Imaginary           Modulus         Frequency\n",
      "-----------------------------------------------------------------------------\n",
      "AR.1            1.2195           -0.0000j            1.2195           -0.0000\n",
      "AR.2           -1.3138           -0.8936j            1.5889           -0.4049\n",
      "AR.3           -1.3138           +0.8936j            1.5889            0.4049\n",
      "AR.4            0.3900           -1.6763j            1.7211           -0.2136\n",
      "AR.5            0.3900           +1.6763j            1.7211            0.2136\n",
      "-----------------------------------------------------------------------------\n"
     ]
    }
   ],
   "source": [
    "print(model_fit.summary())"
   ]
  },
  {
   "cell_type": "code",
   "execution_count": 70,
   "metadata": {},
   "outputs": [],
   "source": [
    "residuals = DataFrame(model_fit.resid)"
   ]
  },
  {
   "cell_type": "code",
   "execution_count": 71,
   "metadata": {},
   "outputs": [
    {
     "data": {
      "text/plain": [
       "<matplotlib.axes._subplots.AxesSubplot at 0x16d3ab3fe48>"
      ]
     },
     "execution_count": 71,
     "metadata": {},
     "output_type": "execute_result"
    },
    {
     "data": {
      "image/png": "[encoded data removed]",
      "text/plain": [
       "<Figure size 432x288 with 1 Axes>"
      ]
     },
     "metadata": {
      "needs_background": "light"
     },
     "output_type": "display_data"
    }
   ],
   "source": [
    "residuals.plot()"
   ]
  },
  {
   "cell_type": "code",
   "execution_count": 72,
   "metadata": {},
   "outputs": [
    {
     "data": {
      "text/plain": [
       "<matplotlib.axes._subplots.AxesSubplot at 0x16d3b853550>"
      ]
     },
     "execution_count": 72,
     "metadata": {},
     "output_type": "execute_result"
    },
    {
     "data": {
      "image/png": "[encoded data removed]",
      "text/plain": [
       "<Figure size 432x288 with 1 Axes>"
      ]
     },
     "metadata": {
      "needs_background": "light"
     },
     "output_type": "display_data"
    }
   ],
   "source": [
    "residuals.plot(kind='kde')"
   ]
  },
  {
   "cell_type": "code",
   "execution_count": 73,
   "metadata": {},
   "outputs": [
    {
     "name": "stdout",
     "output_type": "stream",
     "text": [
      "                0\n",
      "count  859.000000\n",
      "mean    -0.000041\n",
      "std      0.015604\n",
      "min     -0.096444\n",
      "25%     -0.008865\n",
      "50%     -0.000120\n",
      "75%      0.008228\n",
      "max      0.094671\n"
     ]
    }
   ],
   "source": [
    "print(residuals.describe())"
   ]
  }
 ],
 "metadata": {
  "kernelspec": {
   "display_name": "Python 3",
   "language": "python",
   "name": "python3"
  },
  "language_info": {
   "codemirror_mode": {
    "name": "ipython",
    "version": 3
   },
   "file_extension": ".py",
   "mimetype": "text/x-python",
   "name": "python",
   "nbconvert_exporter": "python",
   "pygments_lexer": "ipython3",
   "version": "3.7.3"
  }
 },
 "nbformat": 4,
 "nbformat_minor": 2
}
